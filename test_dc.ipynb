{
 "cells": [
  {
   "cell_type": "code",
   "execution_count": 1,
   "metadata": {},
   "outputs": [],
   "source": [
    "from smtplib import SMTP\n",
    "from email.mime.text import MIMEText\n",
    "from email.mime.multipart import MIMEMultipart"
   ]
  },
  {
   "cell_type": "code",
   "execution_count": 54,
   "metadata": {},
   "outputs": [
    {
     "data": {
      "text/plain": [
       "(221, b'web.de Service closing transmission channel')"
      ]
     },
     "execution_count": 54,
     "metadata": {},
     "output_type": "execute_result"
    }
   ],
   "source": [
    "\n",
    "# creates SMTP session\n",
    "s = SMTP('smtp.web.de', 587)\n",
    "# start TLS for security\n",
    "s.starttls()\n",
    "# print(s.noop())\n",
    "# Authentication\n",
    "s.login(\"db.zeug@web.de\", \"\")#\n",
    "\n",
    "\n",
    "\n",
    "message = MIMEMultipart(\"alternative\")\n",
    "message[\"Subject\"] = \"multipart test\"\n",
    "message[\"From\"] = \"db.zeug@web.de\"\n",
    "message[\"To\"] = \"moritz.albach@gmail.com\"\n",
    "\n",
    "text = \"\"\"\\\n",
    "Hi,\n",
    "Check out the new post on the Mailtrap blog:\n",
    "SMTP Server for Testing: Cloud-based or Local?\n",
    "https://blog.mailtrap.io/2018/09/27/cloud-or-local-smtp-server/\n",
    "Feel free to let us know what content would be useful for you!\"\"\"\n",
    "\n",
    "message.attach(MIMEText(text, \"plain\"))\n",
    "\n",
    "# message to be sent\n",
    "# message = \"Message_you_need_to_send adfasdf sdaf asdf\"\n",
    "# sending the mail\n",
    "s.sendmail(\"db.zeug@web.de\", \"moritz.albach@gmail.com\", message.as_string())\n",
    "# terminating the session\n",
    "s.quit()"
   ]
  },
  {
   "cell_type": "code",
   "execution_count": 40,
   "metadata": {},
   "outputs": [],
   "source": [
    "import imaplib\n",
    "import email"
   ]
  },
  {
   "cell_type": "code",
   "execution_count": 41,
   "metadata": {},
   "outputs": [
    {
     "ename": "error",
     "evalue": "b'authentication failed'",
     "output_type": "error",
     "traceback": [
      "\u001b[1;31m---------------------------------------------------------------------------\u001b[0m",
      "\u001b[1;31merror\u001b[0m                                     Traceback (most recent call last)",
      "Cell \u001b[1;32mIn[41], line 2\u001b[0m\n\u001b[0;32m      1\u001b[0m mail \u001b[38;5;241m=\u001b[39m imaplib\u001b[38;5;241m.\u001b[39mIMAP4_SSL(\u001b[38;5;124m'\u001b[39m\u001b[38;5;124mimap.web.de\u001b[39m\u001b[38;5;124m'\u001b[39m)\n\u001b[1;32m----> 2\u001b[0m mail\u001b[38;5;241m.\u001b[39mlogin(\u001b[38;5;124m\"\u001b[39m\u001b[38;5;124mdb.zeug@web.de\u001b[39m\u001b[38;5;124m\"\u001b[39m, \u001b[38;5;124m\"\u001b[39m\u001b[38;5;124m\"\u001b[39m)\n\u001b[0;32m      3\u001b[0m mail\u001b[38;5;241m.\u001b[39mlist()\n\u001b[0;32m      4\u001b[0m \u001b[38;5;66;03m# Out: list of \"folders\" aka labels in gmail.\u001b[39;00m\n",
      "File \u001b[1;32mc:\\Users\\morit\\anaconda3\\envs\\dm\\Lib\\imaplib.py:612\u001b[0m, in \u001b[0;36mIMAP4.login\u001b[1;34m(self, user, password)\u001b[0m\n\u001b[0;32m    610\u001b[0m typ, dat \u001b[38;5;241m=\u001b[39m \u001b[38;5;28mself\u001b[39m\u001b[38;5;241m.\u001b[39m_simple_command(\u001b[38;5;124m'\u001b[39m\u001b[38;5;124mLOGIN\u001b[39m\u001b[38;5;124m'\u001b[39m, user, \u001b[38;5;28mself\u001b[39m\u001b[38;5;241m.\u001b[39m_quote(password))\n\u001b[0;32m    611\u001b[0m \u001b[38;5;28;01mif\u001b[39;00m typ \u001b[38;5;241m!=\u001b[39m \u001b[38;5;124m'\u001b[39m\u001b[38;5;124mOK\u001b[39m\u001b[38;5;124m'\u001b[39m:\n\u001b[1;32m--> 612\u001b[0m     \u001b[38;5;28;01mraise\u001b[39;00m \u001b[38;5;28mself\u001b[39m\u001b[38;5;241m.\u001b[39merror(dat[\u001b[38;5;241m-\u001b[39m\u001b[38;5;241m1\u001b[39m])\n\u001b[0;32m    613\u001b[0m \u001b[38;5;28mself\u001b[39m\u001b[38;5;241m.\u001b[39mstate \u001b[38;5;241m=\u001b[39m \u001b[38;5;124m'\u001b[39m\u001b[38;5;124mAUTH\u001b[39m\u001b[38;5;124m'\u001b[39m\n\u001b[0;32m    614\u001b[0m \u001b[38;5;28;01mreturn\u001b[39;00m typ, dat\n",
      "\u001b[1;31merror\u001b[0m: b'authentication failed'"
     ]
    }
   ],
   "source": [
    "mail = imaplib.IMAP4_SSL('imap.web.de')\n",
    "mail.login(\"db.zeug@web.de\", \"\")\n",
    "mail.list()\n",
    "# Out: list of \"folders\" aka labels in gmail.\n",
    "mail.select(\"inbox\") # connect to inbox.\n",
    "result, data = mail.search(None, \"ALL\")\n",
    "\n",
    "ids = data[0] # data is a list.\n",
    "id_list = ids.split() # ids is a space separated string\n",
    "latest_email_id = id_list[-1] # get the latest\n",
    "\n",
    "# fetch the email body (RFC822) for the given ID\n",
    "result, data = mail.fetch(latest_email_id, \"(RFC822)\") \n",
    "\n",
    "raw_email = data[0][1] # here's the body, which is raw text of the whole email\n",
    "# including headers and alternate payloads\n",
    "\n",
    "str(raw_email)"
   ]
  },
  {
   "cell_type": "code",
   "execution_count": 73,
   "metadata": {},
   "outputs": [
    {
     "name": "stdout",
     "output_type": "stream",
     "text": [
      "b'Return-Path: <moritz.albach@gmail.com>\\r\\nAuthentication-Results:  web.de; dkim=pass header.i=@gmail.com\\r\\nReceived: from mail-il1-f181.google.com ([209.85.166.181]) by mx-ha.web.de\\r\\n (mxweb105 [212.227.17.8]) with ESMTPS (Nemesis) id 1MP2Ws-1sam0o05cK-00WYya\\r\\n for <db.zeug@web.de>; Thu, 19 Sep 2024 21:45:18 +0200\\r\\nReceived: by mail-il1-f181.google.com with SMTP id e9e14a558f8ab-3a09a62e5deso5022485ab.1\\r\\n        for <db.zeug@web.de>; Thu, 19 Sep 2024 12:45:17 -0700 (PDT)\\r\\nDKIM-Signature: v=1; a=rsa-sha256; c=relaxed/relaxed;\\r\\n        d=gmail.com; s=20230601; t=1726775116; x=1727379916; darn=web.de;\\r\\n        h=to:subject:message-id:date:from:mime-version:from:to:cc:subject\\r\\n         :date:message-id:reply-to;\\r\\n        bh=Jp0uJvxgqD9nWLvc4MyNpHNeQp4f5YmLBsQeHfD0QAA=;\\r\\n        b=YBwCV5XYHtsBiXxZ4zELiJZfry6wLbI8L3cASxb2DgzszsOpIHMHsm0ZVOOMtFVh6t\\r\\n         gJckhKIvp+6KnN4gZoAEzYawvjKxKxRP8Ycj9lvx63NM1DxY+w736WJAXpMgGzP4EgkW\\r\\n         LBth6QeUMhP/SMQ6Mjg5dNC8wycv6TJ7rgtVrnRhDDdMd70/n51ge5sA8W/WIzJx663k\\r\\n         NiaueS0Qw3OSnHzvPbnfIESLIqP1zSkpyAWEwHuUrkPhIq2IvsV3FtEbh1iWT6MHOjY4\\r\\n         Oh2l3eR8sXhoqi++tsiDt30BLEtLKpXpQS6MoSz25nZ8/2ojw8g/02eDtfPNoyQAsZR1\\r\\n         z52w==\\r\\nX-Google-DKIM-Signature: v=1; a=rsa-sha256; c=relaxed/relaxed;\\r\\n        d=1e100.net; s=20230601; t=1726775116; x=1727379916;\\r\\n        h=to:subject:message-id:date:from:mime-version:x-gm-message-state\\r\\n         :from:to:cc:subject:date:message-id:reply-to;\\r\\n        bh=Jp0uJvxgqD9nWLvc4MyNpHNeQp4f5YmLBsQeHfD0QAA=;\\r\\n        b=gHF/b14H03/uEuFZiPQHlA5LxFYS9yIFwurNC9rxOesZR95eRmaAbkPGNV6oXtM9t0\\r\\n         PGJ7GwqC4V/xco/NM61hULOgiBey81JrsU0/tW1oEKez8yJ1Wx7lVchtAYOPRgexi+ny\\r\\n         GX1OChfCbK9oJH+68My9SF7XyjKXMAl3Ukxiktju7uqbqQpGtdKRkXRFSWRIkTtrnE0b\\r\\n         0Xr3U7Vm3bd4M+YxkmSiqfrrJg+Owm0XbfgLr/8RbgA7+NJLnGzk4sYXukizbmCx2r8c\\r\\n         cJlI+AEiRPlQWHNIPQ1SIbG1S01O5fiokXfDKLTN/LvkaS9HY2DwW56708K7Lvq9vSSa\\r\\n         D8dA==\\r\\nX-Gm-Message-State: AOJu0YzT41S4a95B3z7/Ev6YysIpCI2F4N7efwncCyD9j42e49YgEcp0\\r\\n\\tB0b2hN/c5LTle7F+Ea8WN6wGYBDLNENYkBtN48FA6QmqYgfGsuMjWl9uzBTu6SQnLYIqh0LfN9d\\r\\n\\twTNM9zoc+lmYuAwZ1GXKRNH9vFsZib5UFExURkg==\\r\\nX-Google-Smtp-Source: AGHT+IEfqExr1iWx6fZOkPXuLtdrVNoyBeFiWhsA8aZXPLuJLkP0LEi8KCN4PwhWkzgd/un18jPOf8v96xZV9zaGsyU=\\r\\nX-Received: by 2002:a92:ca0e:0:b0:3a0:4e2b:9ab9 with SMTP id\\r\\n e9e14a558f8ab-3a0c9cd0c49mr2846465ab.5.1726775116409; Thu, 19 Sep 2024\\r\\n 12:45:16 -0700 (PDT)\\r\\nMIME-Version: 1.0\\r\\nFrom: Moritz Albach <moritz.albach@gmail.com>\\r\\nDate: Thu, 19 Sep 2024 21:45:07 +0200\\r\\nMessage-ID: <CAPwaYEpSMr__PpSwzqSQA2_Z0k0vGr1c+=f3KmTAFyC3CN+NqQ@mail.gmail.com>\\r\\nSubject: \\r\\nTo: db.zeug@web.de\\r\\nContent-Type: multipart/alternative; boundary=\"0000000000006bb87306227e2984\"\\r\\nEnvelope-To: <db.zeug@web.de>\\r\\nUI-InboundReport: unknown:5;M01:P0:e9b5YQxbcLQ=;+lBbPhkYMYEr+Bf6DHBYz2P4tVnQ\\r\\n vB0juEiaGTSLkLwqui3I9qoCD0r8zJyAEmvBda8RqA9yJReg2ZJK8H8nQUdSWks/agyxrCdES\\r\\n IF/Q7Eo0LY6dB4q1lw6n3MI1zFGdmhUSEO4WEl3qHtzPoCmhzMMYlUqsO8OaM66zcBNtAwg1x\\r\\n EUWT21tKxyJL750Z6Cxjuz9rI/EC7eMChzFIGTe/gX4SuPTbxn6GF4YrJiv6UOOLqI6Qi5+3n\\r\\n Hzen74TXwqoyPittqTm6PEJm4q1mWCYBXwMdj576ZLyoWsKQJggdV9fKsmtaHYuVOXij94pOw\\r\\n ZT8B8gnz4/oowjXm2Q9OsZE0ssrEWycIPprJTtSNqst7B8WttTM95aH751rL+RAYMUAVGCyXz\\r\\n JsVN6Jz+E7n8k8VaPaVwqAt27VEoDpG350gPzqGtGzbc05akrlieokZuvXOELwRrtVZdNjz8s\\r\\n hlbZWF/1CgEFbIps2+aFVb23mqc4hUtFDDBtblAfcLOTI35HDnQ6WpZNR80PFt0yxkI+VQe+D\\r\\n EGZLhf63agirhXxc/8xXtWXtk56ea+zcDU/FCEIobzVjiNOPtlb5YnWBKVkCIRaFxCSZDPS82\\r\\n iQRpDoQS5Dzox61oqKBEmH3nODG8vXRGUlZ1z94Tibxsb5chjwLaIiul122MxwDMegBfdywvg\\r\\n 9Qck9FUz0gsCAoHOr+Xkl1w+pCesl2nc7ZygNnYx/4iz+Q06rbbmmGDLkqgbtDfBUUGRTNzDG\\r\\n FTHjaGgwQ699Kg+/UcC+9JDDDiU5VTVQlVB6+PDGmeRbJhM/BvRus3fj76rnflDsNZNtM1WdD\\r\\n kp2fWqQO6m63AI4OHR+xF5YbY90xYpvFJrVQiDJUXXb8qjZEHTc7llp4uVnjvO3DIGq92BqYj\\r\\n jy054OHBIDO0C8yDxdReBrttjFZNvepdzLe2Z5em7POwpBUiroOUM/4YSvYEAq3s8sqHGtS20\\r\\n i5hWOI8M4154viGRBtRBrmua+omiRbUo5JF5fcbL+XnYOpsG1yjB+/yzSDsNvBoBb92a0LYZk\\r\\n x03nbFKxblFuIV4920mNjVwL4Ur9P16Kwh9vnlssRmg3wA+PXs20qMiRwPbfJhUbq7W9gbxMO\\r\\n 3Jyk7uhheq48vhdOnK9xONGQK7lLxkYWSql15d+6ARFt09RKYdcgNjwQvkfPo3AUaOvgKlT2Q\\r\\n AGTW4EBlCLtH4wCQRB6H0bR2ITKJ6jZxWA19qNwnIqXycKnvzNYV7PaXE9JnkyLYwsnzYOmDr\\r\\n 5DvWop3JOzreZFhJBEAwK8Uiups4aGKrPKCiMNfyRjEToU9tuZYbH/LLD5PuaD1F7yvOADO+r\\r\\n /1tBYno67P5DNmQxk49+2uKvvnx8R0IrBcKCGCLTuwLp66qF2ikk2SzPZwGbdG7Rhz52ByoA2\\r\\n XpEoop+OjP2Vln0bd4x7j71V/pHuIi1w+9CQIzauK5obkr1ZEf35z4PAOHqJdj7ViWVW75YPS\\r\\n PIXzf6OCMdq0sfSN41JM3Fi7FJh1fejjcJ/mMJeKqLJRDKSmmD7njxTgZ1gDTBx2xQt+K9uX+\\r\\n cYb6LkQjL/CpM1a17nc/A+FDSQThdTqwGamJOLRzXLLrhWmJ6qBXs28aDYgArRH+vHn30EQmg\\r\\n OZlQdTd1kPXUSwo6Yq+SvaVa9JEdJ18iDqTXprESM6sVo+JHr+NThM1EzULciNYIQE3HU4Vvi\\r\\n x8VGJxRlvQQlAG+odq5h+PQ9YiGfvo1ncI2Rzyc2VyJc0G4Eid5GQpIJCw/5F7Ll3MTY5/xAo\\r\\n rOXdxJFCKDDrR271JH5R3PtujNHe7hHu8QsGZLqU7kG6Kmf1uU58k4fhCLiB7B49jniMWJiQp\\r\\n QNXA2IUum2X0/t4NagNtnRmuTcqZeK8q6uZRSRtG69vUEShUPH5E4vcweeS8ut73pHt/R/eUA\\r\\n tILMPY+e8ZsGohBwxCDz24Ye4fJxXw7djTNVS6U0ZdZVJ0X6B5GLHmC/t5IfQfJNJA5QfR5E2\\r\\n +SNqH9L7bTYDzxo13l3uu4cdn6rX3T81yi6RKjgyVjiH82lEfd9qneY7UE1fesHXC1jV2HHvl\\r\\n xFyu1iu6Hg3x2I1sM20HZuVAd0/axVQvAvgJgOzvlD/xegqBVrr66Wgs+JF67ccyy3tV0NLBk\\r\\n +uOKecmkK9yVnUB2u6fdQkk1UxL/r6wzc5r60ZFo/YZPlqimHob9JARJjqgyM57hyTsPUipNF\\r\\n N6t3e1Q12u3NayzycDBfkFaW+v+NPiSEr3NyhfnvlrD58m6VpkhiBMFcMbjQmL9Wu3VA+0oV5\\r\\n FHpbi89eBe8imhsRBT2aebv/gM2LpJ27HH4HhNzzgJOF7H5O5I8l74ofoIKOTZZEz3FwvF4A7\\r\\n v+ojKsA0ctzElWTCmydTWS/VIxfGJsFTIivUDuwZ27FiwOKqGEzOHkkcq8hrinj+Ujl2S8b52\\r\\n kjbTl2rv6+6Lj3tVOBpgZROAn5Uw4LfSjDxr4lNflJPw8Y91RJCQHtSmBXmH2QfPPH1/5dr50\\r\\n M71T+XkruwtBvlhjW6eWb2zFm/axbEGhH5iDig2HvwjHSqI7LOAbEdu3xJ9zXjlpShREMLLMQ\\r\\n bnPTwfhLTVQApf3gs60hH+9f4ToWsVBQc23IU8adF/OsJ0QZJqJEcOjcl6/G8wHzGnLwa1Wdd\\r\\n xAZlxiKzEB9qW95Gbr6jlCAxJPM29NK2jsVqy1PXcjOuqYPK9syDC18WXaEyTs4eXA3Z02L8q\\r\\n okZUOB+MavgGf9/HiowD4UsOswJn+Dry+TijgrvlitIupO2vA3ZR2swl/yDaxLsJ/AecGY42Z\\r\\n Z5jvkCmWf8jD5kE964qiUMhjlchQdT5fBt5WYgehsBDg2W92CbFqHePhtebRdEzZfdW8gftXG\\r\\n cwDsq5jM3CSDcFomN8Af/S3sBp06K4h1I5CLZQJeP7f4vpz4uR74iQXjAYn3j21tONa/94kDm\\r\\n tLql6VstwYmMlcGtMVuUPgjA0O3XdqYtGSPvHuZnH5NAPvFZMwF4wAQE6rGtVbhWQ81vq7kFM\\r\\n XVglwpWci/thMxkhM8KdLPvlKJ0NBayhP70UG4tpbTqJ+r9hU3KUf/SUBFeMhy47+mJC7jbPK\\r\\n 1KM3WOYhvV1XgOind3G8/BUqzqLrR6kmbUKr8wWUqmFQEm3IAQkF5qNpOxN+mRBTYy9uXmIJg\\r\\n PY3lZGBU41ViFaGOa4Rvh5mgHUmic04OB2RCadH/lR1/Qks8Al+Azr97Z446vxQHdtdx8Y75K\\r\\n l6TjSZiOHfPQSMFU7x4fTWCXYJI6x700imSdcJKnNt6DkBcMq6HeDqOgRlzeE2679WoPG9gyb\\r\\n hqHEC9wE6QVpw5NVOURbBJpPA3BW5HxU+tOTdvYS50ycJu1TmHa9u1d1Var9uO2hz3mSKHn0n\\r\\n lkY+IIDMVnVX/TPkUEjvPokJ9PCR07ITGwsOXBJB48SgtPu4dM52Jqw3u0SonPSKCp/sDILbN\\r\\n Fgq+Qlw2fs2JdPrXVEwtO0phsF2n2/IafxC9WtAB/gpH4cbPhyNf5g2KpHvrHmVKxtvsigU7z\\r\\n sCGvwzVH9NIMtPxv8eD8FVWT+qFQBIDYJHfIsuGHZQIoonyhdqqkejICXjoQVVzYFscOxNkP0\\r\\n IORBL4Ejf7zDZkc14qPmnGVaUij6J86omy+W8t8dR+siQzyeOzf0lsnaqxzl5epzm33Q9RBGw\\r\\n q7s24W0YxUMzYr57zv1gL2xQ77hsIk4ocM+hWgK8p4Pt/Zk/lLZjO8YRPzLS3Q8hXyabt/4AR\\r\\n cX97CGn95iMeeGKY7VXtpmqcnReg4BBMiu0B6QTxjtKP8dPfO8sBczRFLcb7MGLLNZjPjCa5V\\r\\n Af6Gz1g3uOTJkLqSj5LFf28MwapA4SFodGqRbFCazg48QK+gwSXMVR3yuqck8Mrni/a1Vci00\\r\\n oubA+PcW5LxpFqgw5D5Jhh3BKsjsI8EiN/G04HDnGJOWjfwkePCXik+YnhHlBh4SVCeSH6sM7\\r\\n 3SGsOR0tBXwkM1PpaEQ4UE1kDTb2TyC1xtlxgWlcYmtlbRPS3Z/lPCleH4BlD9U0n7i0ar5q/\\r\\n g/6ZD/otP1vi/mRqZW3egw8eCfSb9bDDuaylhPK/I1hq5mgPQ1S9xCtRD5MA16MhZz0b16CNj\\r\\n 90F7f1DPH67S8uAI7tL7m3O4UD/KX+t9eXZMW/LhygVL8jxKVGmGSc5OHkvdkAf7L30Vb84Jb\\r\\n B6yoU8ES0HRJFQGym8PuD9l17ehBVeK30V79sUvhIK8ZBgBCWYYEMkvnCLjzkstiAocvIL+4x\\r\\n diSbcVcGYw7yzdKHKTdOH8obmRh3LId/5VGs1zrWq5NidGUsT+/NLHUoduciyNluOpSb3fdkC\\r\\n LW5IEYIyRGMtnxmeiWz46u00O3MoZBAILnqjx987q/SBrFoybGKjat3Llw64Qi7WKbWTg2n9j\\r\\n XRX1Nr9OeRnisbPJvG7t1eOB5c3mwYu9V45ZzEigwrIH0tb/Su04E+68ZyO5yLwcvp/Ksb+Tn\\r\\n 9V8VUeF+a5BwsmYg0r1+xZifcyrX/6H8FtanTqQwjg+Cz7e7jM5uxNM9+miUVgC4HVfyjg3jt\\r\\n ExcCt2SBAtjtCahPn0py4LbnlEo0GFP2b+s+8R8wXmlNJ2+13ZWgI0ZGTmDaAA3qyWS5QpAio\\r\\n XDUoNktAOnjDUV6+GMPJIYq9Ox46gaRp6EAisqzYWqsZJ4J2TWLLhwpl4DRahqGYdSvFJ0x+a\\r\\n a0CLBHKVaEVvnfvL5Tt/a/qouQyIRNEMq2FNOxi8HEbz8+j+/kzEsQdYB5dHdYmKOPLm+3n7A\\r\\n 6GFKd084Qulm1Z8tI5gKmIxUQYEcTeSu0zTSJXTTef+mhN0+K8QUuV7yhFU7j16kR9aFgx3Tj\\r\\n 6gIFpLyjzXIBCnUiFMO44nvkBWKkgWEs4rs23J0mJjJrjcutWTt+Pof6mTyFpO2JFvb+xHmSD\\r\\n 2XTGhiL5YWLaaAN2e7PQAwY05+vuDtQNeMQ9MRrJqVuOxIrVOCRMme4fwKoVd+5rtaE0mGjnM\\r\\n qCtEjMslBcgrq4XgsXD2QU0CsQQmchGw3J1K9Bvr7YJ0Bd2tZaHX2Dp0OO+hfjsP+L7YUzvnY\\r\\n gBDDFoLnRpdkukw8GXo4TUY3727RcOgH+KPSlOr5M4/DanExj/ReIHNK3WDEgQtOF3qPZ/fjt\\r\\n VV7HtHyDZjhXCZ+duzEMkj4uOS0/6hW0R0j7jtfQUNO1BPBLe0kxkD2jYP664u5LcnmFYRnNO\\r\\n 3GQFbBhyC2KJV9knQjVSnkuoXhDqaAa95u1HoqvfKTEIKemHYNo7IB1CE2mCE+MwIAGH+1ytz\\r\\n nXYKsqwHLsDKBoFxITlqYKwuoo9osZsyTKhpLKmTsz1IrUK0sp7tR/a0bkMJ3LERg139vvtKe\\r\\n U3jDYJkPdgbUkBFqzR63COuaHEIhBkqIjp0CocKWASNS+c8ww+dUQ18Ye/+HEx549eDR93cVB\\r\\n zbB786hAr6K0Z0dDazW4crO6p0BGs/1yHg58c3bG5oddKY0V1cMa3J2BUlyZp9wocTz1SRDfD\\r\\n PI6g/MX68LnRdMJbpWpAwm+HIq7BSgKZx3pmTzXIlt4F2IgDd9Ze8mY/bPzOTpI/u8aNGMTiM\\r\\n lLRDIu+cDucjhf3ZgbKXKTuv9JZ9x5K9mDRdM+45UjirmoICTod+QfXrPQbd6FeDQ7bToAXwO\\r\\n FdutqNmBd4iSvMMRN64mKmDR7kqROq+V6gY1cbryZ+ayBVSGSCK2CM1l+9OENw/jsJk50AsDX\\r\\n kCv5r0lkFLDJExW4wIjn5b4NiJuRLtuwJJSIni1tDFHmC3s7rImJgkghalmpEvyd0GhhrBsqJ\\r\\n PYdXQLWk/domWVQ1noYebo5Wyj8onrOXioWLVGfd9oCm3GGup8E1X8xckznJFC0uAUorsdr8c\\r\\n pOr9uuAbtLixUy+paeoeEHqcmeEQq0LiJouSXbpkZfpFDVYdR2Kk1FHGhv9HjFhOZA6mkPdek\\r\\n e53uzz3CvA7nhJgb1i+e71ig8icvwPZMQ==\\r\\n\\r\\n--0000000000006bb87306227e2984\\r\\nContent-Type: text/plain; charset=\"UTF-8\"\\r\\n\\r\\nFilialnummer: D264\\r\\nAuftrag: 380326\\r\\n\\r\\n--0000000000006bb87306227e2984\\r\\nContent-Type: text/html; charset=\"UTF-8\"\\r\\nContent-Transfer-Encoding: quoted-printable\\r\\n\\r\\n<div dir=3D\"ltr\"><div>Filialnummer: D264=C2=A0<br></div>Auftrag: 380326</di=\\r\\nv>\\r\\n\\r\\n--0000000000006bb87306227e2984--\\r\\n'\n"
     ]
    }
   ],
   "source": [
    "mail = imaplib.IMAP4_SSL('imap.web.de')\n",
    "mail.login(\"db.zeug@web.de\", \"38FxUecv6TQHxkS\")\n",
    "mail.list()\n",
    "# Out: list of \"folders\" aka labels in gmail.\n",
    "mail.select(\"inbox\") # connect to inbox.\n",
    "result, data = mail.search(None, \"ALL\")\n",
    "\n",
    "ids = data[0]\n",
    "id_list = ids.split()\n",
    "latest_email_id = id_list[-1]\n",
    "\n",
    "# fetch the email body (RFC822) for the given ID\n",
    "result, data = mail.fetch(latest_email_id, \"(RFC822)\") \n",
    "\n",
    "raw_data = data[0][1]\n",
    "# f_num = raw_email.decode('ascii').split(\"Filialnummer:\")\n",
    "# .decode('latin_1')\n",
    "f_num = raw_email\n",
    "\n",
    "print(f_num)\n",
    "\n",
    "#==\\r\\n\\r\\n<html><head></head><body><div style=\"font-family: Verdana;font-size: 12.0px;\"><div>test</div></div></body></html>\\r\\n'"
   ]
  },
  {
   "cell_type": "code",
   "execution_count": 43,
   "metadata": {},
   "outputs": [
    {
     "data": {
      "text/plain": [
       "[b'1', b'2', b'3', b'4']"
      ]
     },
     "execution_count": 43,
     "metadata": {},
     "output_type": "execute_result"
    }
   ],
   "source": [
    "id_list\n"
   ]
  },
  {
   "cell_type": "code",
   "execution_count": 81,
   "metadata": {},
   "outputs": [
    {
     "name": "stdout",
     "output_type": "stream",
     "text": [
      "Filialnummer: D264, Auftrag: 380326,\n",
      "1\n",
      "D264\n",
      "380326\n"
     ]
    }
   ],
   "source": [
    "# id_list[-1]\n",
    "result, data = mail.fetch(id_list[-1], \"(RFC822)\") \n",
    "raw_email = data[0][1]\n",
    "email_massage = email.message_from_string(raw_email.decode(\"utf-8\"))\n",
    "# D264 \n",
    "\n",
    "# f_num = raw_email.decode('ascii').split(\"Filialnummer:\")\n",
    "# body = raw_email.text or raw_email.html\n",
    "for part in email_massage.walk():\n",
    "    if part.get_content_type() == \"text/plain\":\n",
    "        charset = part.get_content_charset()\n",
    "        body = part.get_payload(decode=True)\n",
    "        # print(body)\n",
    "        obj = body.decode(\"ascii\")\n",
    "        obj = obj.replace(\"\\r\\n\" , \", \")\n",
    "        obj = obj[:len(obj)-1].replace('', '')\n",
    "        print(obj)\n",
    "        print(1)\n",
    "\n",
    "        # obj = dict(map(lambda x : x.split(\":\"), obj.split(\",\")))\n",
    "\n",
    "        # print(obj[\"status\"])\n",
    "\n",
    "print(obj.split(\"Filialnummer:\")[1][:5].strip())\n",
    "print(obj.split(\"Auftrag:\")[1][:7].strip())\n"
   ]
  },
  {
   "cell_type": "code",
   "execution_count": null,
   "metadata": {},
   "outputs": [],
   "source": []
  }
 ],
 "metadata": {
  "kernelspec": {
   "display_name": "dm",
   "language": "python",
   "name": "python3"
  },
  "language_info": {
   "codemirror_mode": {
    "name": "ipython",
    "version": 3
   },
   "file_extension": ".py",
   "mimetype": "text/x-python",
   "name": "python",
   "nbconvert_exporter": "python",
   "pygments_lexer": "ipython3",
   "version": "3.12.0"
  }
 },
 "nbformat": 4,
 "nbformat_minor": 2
}
