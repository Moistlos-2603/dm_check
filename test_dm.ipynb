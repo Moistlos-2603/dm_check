{
 "cells": [
  {
   "cell_type": "code",
   "execution_count": 28,
   "metadata": {},
   "outputs": [],
   "source": [
    "from selenium import webdriver\n",
    "\n",
    "from selenium.webdriver.common.by import By\n",
    "from selenium.common.exceptions import NoSuchElementException\n",
    "from selenium.webdriver.chrome.options import Options\n",
    "import time"
   ]
  },
  {
   "cell_type": "code",
   "execution_count": 29,
   "metadata": {},
   "outputs": [],
   "source": [
    "chrome_options = Options()\n",
    "chrome_options.add_argument(\"--disable-search-engine-choice-screen\")\n",
    "chrome_options.add_argument('--headless=new')\n",
    "driver = webdriver.Chrome(options=chrome_options)\n",
    "\n",
    "driver.get(\"https://www.fotoparadies.de/service/auftragsstatus.html#/?orderid=380326&locationid=D264\")\n"
   ]
  },
  {
   "cell_type": "code",
   "execution_count": 30,
   "metadata": {},
   "outputs": [],
   "source": [
    "def find_elemten(x_path):\n",
    "    try:\n",
    "        element = driver.find_element(By.XPATH, x_path)\n",
    "    except NoSuchElementException:\n",
    "        return False\n",
    "    return element\n",
    "# time.sleep(4)\n",
    "# find_elemten(\"/html/body/cw-order-tracking-app/cw-order-tracking/div/div/cw-accordion/div/div/cw-tile/cw-order-timeline/div[2]/div[4]/div/img\")\n",
    "\n",
    "\n",
    "# /html/body/cw-order-tracking-app/div/div"
   ]
  },
  {
   "cell_type": "code",
   "execution_count": 31,
   "metadata": {},
   "outputs": [
    {
     "name": "stdout",
     "output_type": "stream",
     "text": [
      "JA\n"
     ]
    }
   ],
   "source": [
    "while(find_elemten(\"/html/body/cw-order-tracking-app/div/div\")):\n",
    "    print(1)\n",
    "time.sleep(1.5)\n",
    "\n",
    "img_link = find_elemten(\"/html/body/cw-order-tracking-app/cw-order-tracking/div/div/cw-accordion/div/div/cw-tile/cw-order-timeline/div[2]/div[3]/div/img\").get_attribute(\"src\")\n",
    "\n",
    "if \"_active\" in img_link and img_link != \"\":\n",
    "    print(\"JA\")"
   ]
  },
  {
   "cell_type": "code",
   "execution_count": 32,
   "metadata": {},
   "outputs": [
    {
     "name": "stdout",
     "output_type": "stream",
     "text": [
      "[1, 3, 4, 7, 6, 4]\n"
     ]
    }
   ],
   "source": [
    "arr = [1, 3, 4, 7,6,4]\n",
    "\n",
    "for x in arr:\n",
    "    if x == 3:\n",
    "        x = 120\n",
    "print(arr)"
   ]
  }
 ],
 "metadata": {
  "kernelspec": {
   "display_name": "dm",
   "language": "python",
   "name": "python3"
  },
  "language_info": {
   "codemirror_mode": {
    "name": "ipython",
    "version": 3
   },
   "file_extension": ".py",
   "mimetype": "text/x-python",
   "name": "python",
   "nbconvert_exporter": "python",
   "pygments_lexer": "ipython3",
   "version": "3.12.0"
  }
 },
 "nbformat": 4,
 "nbformat_minor": 2
}
