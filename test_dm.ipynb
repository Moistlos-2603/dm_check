{
 "cells": [
  {
   "cell_type": "code",
   "execution_count": 1,
   "metadata": {},
   "outputs": [],
   "source": [
    "from selenium import webdriver\n",
    "\n",
    "from selenium.webdriver.common.by import By\n",
    "from selenium.common.exceptions import NoSuchElementException\n",
    "from selenium.webdriver.chrome.options import Options\n",
    "import time"
   ]
  },
  {
   "cell_type": "code",
   "execution_count": 2,
   "metadata": {},
   "outputs": [],
   "source": [
    "chrome_options = Options()\n",
    "chrome_options.add_argument(\"--disable-search-engine-choice-screen\")\n",
    "driver = webdriver.Chrome(options=chrome_options)\n",
    "\n",
    "driver.get(\"https://www.fotoparadies.de/service/auftragsstatus.html#/?orderid=380261&locationid=D264\")\n"
   ]
  },
  {
   "cell_type": "code",
   "execution_count": 6,
   "metadata": {},
   "outputs": [],
   "source": [
    "def find_elemten(x_path):\n",
    "    try:\n",
    "        element = driver.find_element(By.XPATH, x_path)\n",
    "    except NoSuchElementException:\n",
    "        return False\n",
    "    return element\n",
    "# time.sleep(4)\n",
    "# find_elemten(\"/html/body/cw-order-tracking-app/cw-order-tracking/div/div/cw-accordion/div/div/cw-tile/cw-order-timeline/div[2]/div[4]/div/img\")\n",
    "\n",
    "\n",
    "# /html/body/cw-order-tracking-app/div/div"
   ]
  },
  {
   "cell_type": "code",
   "execution_count": 12,
   "metadata": {},
   "outputs": [
    {
     "name": "stdout",
     "output_type": "stream",
     "text": [
      "JA\n"
     ]
    }
   ],
   "source": [
    "while(find_elemten(\"/html/body/cw-order-tracking-app/div/div\")):\n",
    "    print(1)\n",
    "time.sleep(1.5)\n",
    "\n",
    "img_link = find_elemten(\"/html/body/cw-order-tracking-app/cw-order-tracking/div/div/cw-accordion/div/div/cw-tile/cw-order-timeline/div[2]/div[4]/div/img\").get_attribute(\"src\")\n",
    "\n",
    "if \"inactive\" not in img_link and img_link != \"\":\n",
    "    print(\"JA\")"
   ]
  }
 ],
 "metadata": {
  "kernelspec": {
   "display_name": "dm",
   "language": "python",
   "name": "python3"
  },
  "language_info": {
   "codemirror_mode": {
    "name": "ipython",
    "version": 3
   },
   "file_extension": ".py",
   "mimetype": "text/x-python",
   "name": "python",
   "nbconvert_exporter": "python",
   "pygments_lexer": "ipython3",
   "version": "3.12.0"
  }
 },
 "nbformat": 4,
 "nbformat_minor": 2
}
